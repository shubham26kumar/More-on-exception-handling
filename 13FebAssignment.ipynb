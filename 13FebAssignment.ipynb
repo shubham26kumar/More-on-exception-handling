{
 "cells": [
  {
   "cell_type": "markdown",
   "id": "6368c9c7-e4a6-429e-b3a5-ca754a92c60e",
   "metadata": {},
   "source": [
    "Q1. Explain why we have to use the Exception class while creating a Custom Exception."
   ]
  },
  {
   "cell_type": "markdown",
   "id": "f4aa4471-daf2-41d5-9527-4ed3f10e3596",
   "metadata": {},
   "source": [
    "Exception class act as superclass for all user defined exception i.e custom exception.  \n",
    "\n",
    "We use Exception class in custom exception so that we can deal with any exception.\n",
    "\n",
    "Inheriting from the Exception class allows us to create a custom exception that follows the standard Python exception interface and can be caught using the same try-except statement as other exceptions."
   ]
  },
  {
   "cell_type": "code",
   "execution_count": 23,
   "id": "17b4fa53-18b2-4866-897d-290b7a3581b7",
   "metadata": {},
   "outputs": [
    {
     "data": {
      "text/plain": [
       "'ERROR:root:exception Caught:  Error Generated\\n'"
      ]
     },
     "execution_count": 23,
     "metadata": {},
     "output_type": "execute_result"
    }
   ],
   "source": [
    "class MyCustomExc(Exception):\n",
    "    pass\n",
    "\n",
    "try:\n",
    "    raise MyCustomExc(\"Error Generated\")\n",
    "except MyCustomExc as e:\n",
    "    logging.error(f\"exception Caught:  {e}\")\n",
    "f=open(\"error.log\",\"r\")\n",
    "f.read()"
   ]
  },
  {
   "cell_type": "markdown",
   "id": "b2426bf4-e42e-42de-99bc-69e40cf86ca7",
   "metadata": {},
   "source": [
    "Here MyCustomExc is using Exception thats why it is able to try and catch error as MyCustomExc has inherited charcteristics form Superclass Exception .   Hence it is good practice to inherit the Exception class in custom exception as that saves from further error."
   ]
  },
  {
   "cell_type": "code",
   "execution_count": 1,
   "id": "52834c78-8e66-4551-8f68-f4a2f80a5b38",
   "metadata": {},
   "outputs": [],
   "source": [
    "import logging\n",
    "logging.basicConfig(filename=\"error.log\",level=logging.DEBUG)"
   ]
  },
  {
   "cell_type": "markdown",
   "id": "35365556-97bb-42a3-b35f-3b253e2a7217",
   "metadata": {},
   "source": [
    "Q2 .  Write a python program to print Python Exception Hierarchy."
   ]
  },
  {
   "cell_type": "code",
   "execution_count": 29,
   "id": "8c55c617-6ea2-4cac-8312-c1d48a40aa5a",
   "metadata": {},
   "outputs": [
    {
     "name": "stdout",
     "output_type": "stream",
     "text": [
      "Hierarchy for Built-in exceptions is : \n",
      " BaseException\n",
      "--- Exception\n",
      "------ TypeError\n",
      "--------- FloatOperation\n",
      "--------- MultipartConversionError\n",
      "------ StopAsyncIteration\n",
      "------ StopIteration\n",
      "------ ImportError\n",
      "--------- ModuleNotFoundError\n",
      "--------- ZipImportError\n",
      "------ OSError\n",
      "--------- ConnectionError\n",
      "------------ BrokenPipeError\n",
      "------------ ConnectionAbortedError\n",
      "------------ ConnectionRefusedError\n",
      "------------ ConnectionResetError\n",
      "--------------- RemoteDisconnected\n",
      "--------- BlockingIOError\n",
      "--------- ChildProcessError\n",
      "--------- FileExistsError\n",
      "--------- FileNotFoundError\n",
      "--------- IsADirectoryError\n",
      "--------- NotADirectoryError\n",
      "--------- InterruptedError\n",
      "------------ InterruptedSystemCall\n",
      "--------- PermissionError\n",
      "--------- ProcessLookupError\n",
      "--------- TimeoutError\n",
      "--------- UnsupportedOperation\n",
      "--------- itimer_error\n",
      "--------- herror\n",
      "--------- gaierror\n",
      "--------- SSLError\n",
      "------------ SSLCertVerificationError\n",
      "------------ SSLZeroReturnError\n",
      "------------ SSLWantWriteError\n",
      "------------ SSLWantReadError\n",
      "------------ SSLSyscallError\n",
      "------------ SSLEOFError\n",
      "--------- Error\n",
      "------------ SameFileError\n",
      "--------- SpecialFileError\n",
      "--------- ExecError\n",
      "--------- ReadError\n",
      "--------- URLError\n",
      "------------ HTTPError\n",
      "------------ ContentTooShortError\n",
      "--------- BadGzipFile\n",
      "------ EOFError\n",
      "--------- IncompleteReadError\n",
      "------ RuntimeError\n",
      "--------- RecursionError\n",
      "--------- NotImplementedError\n",
      "------------ ZMQVersionError\n",
      "------------ StdinNotImplementedError\n",
      "--------- _DeadlockError\n",
      "--------- BrokenBarrierError\n",
      "--------- BrokenExecutor\n",
      "------------ BrokenThreadPool\n",
      "--------- SendfileNotAvailableError\n",
      "--------- ExtractionError\n",
      "--------- VariableError\n",
      "------ NameError\n",
      "--------- UnboundLocalError\n",
      "------ AttributeError\n",
      "--------- FrozenInstanceError\n",
      "------ SyntaxError\n",
      "--------- IndentationError\n",
      "------------ TabError\n",
      "------ LookupError\n",
      "--------- IndexError\n",
      "--------- KeyError\n",
      "------------ NoSuchKernel\n",
      "------------ UnknownBackend\n",
      "--------- CodecRegistryError\n",
      "------ ValueError\n",
      "--------- UnicodeError\n",
      "------------ UnicodeEncodeError\n",
      "------------ UnicodeDecodeError\n",
      "------------ UnicodeTranslateError\n",
      "--------- UnsupportedOperation\n",
      "--------- JSONDecodeError\n",
      "--------- SSLCertVerificationError\n",
      "--------- Error\n",
      "--------- UnsupportedDigestmodError\n",
      "--------- IllegalMonthError\n",
      "--------- IllegalWeekdayError\n",
      "--------- ParserError\n",
      "--------- ClassNotFound\n",
      "--------- ClipboardEmpty\n",
      "--------- MessageDefect\n",
      "------------ NoBoundaryInMultipartDefect\n",
      "------------ StartBoundaryNotFoundDefect\n",
      "------------ CloseBoundaryNotFoundDefect\n",
      "------------ FirstHeaderLineIsContinuationDefect\n",
      "------------ MisplacedEnvelopeHeaderDefect\n",
      "------------ MissingHeaderBodySeparatorDefect\n",
      "------------ MultipartInvariantViolationDefect\n",
      "------------ InvalidMultipartContentTransferEncodingDefect\n",
      "------------ UndecodableBytesDefect\n",
      "------------ InvalidBase64PaddingDefect\n",
      "------------ InvalidBase64CharactersDefect\n",
      "------------ InvalidBase64LengthDefect\n",
      "------------ HeaderDefect\n",
      "--------------- InvalidHeaderDefect\n",
      "--------------- HeaderMissingRequiredValue\n",
      "--------------- NonPrintableDefect\n",
      "--------------- ObsoleteHeaderDefect\n",
      "--------------- NonASCIILocalPartDefect\n",
      "--------------- InvalidDateDefect\n",
      "--------- MacroToEdit\n",
      "--------- InvalidFileException\n",
      "--------- UnequalIterablesError\n",
      "--------- InvalidVersion\n",
      "--------- _InvalidELFFileHeader\n",
      "--------- InvalidWheelFilename\n",
      "--------- InvalidSdistFilename\n",
      "--------- InvalidSpecifier\n",
      "--------- InvalidMarker\n",
      "--------- UndefinedComparison\n",
      "--------- UndefinedEnvironmentName\n",
      "--------- InvalidRequirement\n",
      "------------ RequirementParseError\n",
      "--------- InvalidVersion\n",
      "------ AssertionError\n",
      "------ ArithmeticError\n",
      "--------- FloatingPointError\n",
      "--------- OverflowError\n",
      "--------- ZeroDivisionError\n",
      "------------ DivisionByZero\n",
      "------------ DivisionUndefined\n",
      "--------- DecimalException\n",
      "------------ Clamped\n",
      "------------ Rounded\n",
      "--------------- Underflow\n",
      "--------------- Overflow\n",
      "------------ Inexact\n",
      "--------------- Underflow\n",
      "--------------- Overflow\n",
      "------------ Subnormal\n",
      "--------------- Underflow\n",
      "------------ DivisionByZero\n",
      "------------ FloatOperation\n",
      "------------ InvalidOperation\n",
      "--------------- ConversionSyntax\n",
      "--------------- DivisionImpossible\n",
      "--------------- DivisionUndefined\n",
      "--------------- InvalidContext\n",
      "------ SystemError\n",
      "--------- CodecRegistryError\n",
      "------ ReferenceError\n",
      "------ MemoryError\n",
      "------ BufferError\n",
      "------ Warning\n",
      "--------- UserWarning\n",
      "------------ GetPassWarning\n",
      "------------ FormatterWarning\n",
      "--------- EncodingWarning\n",
      "--------- DeprecationWarning\n",
      "------------ ProvisionalWarning\n",
      "--------- PendingDeprecationWarning\n",
      "--------- SyntaxWarning\n",
      "--------- RuntimeWarning\n",
      "------------ ProactorSelectorThreadWarning\n",
      "------------ UnknownTimezoneWarning\n",
      "------------ PEP440Warning\n",
      "--------- FutureWarning\n",
      "------------ ProvisionalCompleterWarning\n",
      "--------- ImportWarning\n",
      "--------- UnicodeWarning\n",
      "--------- BytesWarning\n",
      "--------- ResourceWarning\n",
      "--------- DeprecatedTzFormatWarning\n",
      "--------- PkgResourcesDeprecationWarning\n",
      "------ _OptionError\n",
      "------ _Error\n",
      "------ error\n",
      "------ Verbose\n",
      "------ Error\n",
      "------ SubprocessError\n",
      "--------- CalledProcessError\n",
      "--------- TimeoutExpired\n",
      "------ TokenError\n",
      "------ StopTokenizing\n",
      "------ ClassFoundException\n",
      "------ EndOfBlock\n",
      "------ TraitError\n",
      "------ Error\n",
      "------ Error\n",
      "--------- CancelledError\n",
      "--------- TimeoutError\n",
      "--------- InvalidStateError\n",
      "------ _GiveupOnSendfile\n",
      "------ error\n",
      "------ Incomplete\n",
      "------ TimeoutError\n",
      "------ InvalidStateError\n",
      "------ LimitOverrunError\n",
      "------ QueueEmpty\n",
      "------ QueueFull\n",
      "------ Empty\n",
      "------ Full\n",
      "------ ArgumentError\n",
      "------ ZMQBaseError\n",
      "--------- ZMQError\n",
      "------------ ContextTerminated\n",
      "------------ Again\n",
      "------------ InterruptedSystemCall\n",
      "--------- ZMQBindError\n",
      "--------- NotDone\n",
      "------ PickleError\n",
      "--------- PicklingError\n",
      "--------- UnpicklingError\n",
      "------ _Stop\n",
      "------ ArgumentError\n",
      "------ ArgumentTypeError\n",
      "------ ConfigError\n",
      "--------- ConfigLoaderError\n",
      "------------ ArgumentError\n",
      "--------- ConfigFileNotFound\n",
      "------ ConfigurableError\n",
      "--------- MultipleInstanceError\n",
      "------ ApplicationError\n",
      "------ error\n",
      "------ TimeoutError\n",
      "------ error\n",
      "------ ReturnValueIgnoredError\n",
      "------ KeyReuseError\n",
      "------ UnknownKeyError\n",
      "------ LeakedCallbackError\n",
      "------ BadYieldError\n",
      "------ ReturnValueIgnoredError\n",
      "------ Return\n",
      "------ InvalidPortNumber\n",
      "------ error\n",
      "------ LZMAError\n",
      "------ RegistryError\n",
      "------ _GiveupOnFastCopy\n",
      "------ Error\n",
      "--------- NoSectionError\n",
      "--------- DuplicateSectionError\n",
      "--------- DuplicateOptionError\n",
      "--------- NoOptionError\n",
      "--------- InterpolationError\n",
      "------------ InterpolationMissingOptionError\n",
      "------------ InterpolationSyntaxError\n",
      "------------ InterpolationDepthError\n",
      "--------- ParsingError\n",
      "------------ MissingSectionHeaderError\n",
      "------ NoIPAddresses\n",
      "------ BadZipFile\n",
      "------ LargeZipFile\n",
      "------ BadEntryPoint\n",
      "------ NoSuchEntryPoint\n",
      "------ DuplicateKernelError\n",
      "------ ErrorDuringImport\n",
      "------ NotOneValueFound\n",
      "------ CannotEval\n",
      "------ OptionError\n",
      "------ BdbQuit\n",
      "------ Restart\n",
      "------ ExceptionPexpect\n",
      "--------- EOF\n",
      "--------- TIMEOUT\n",
      "------ PtyProcessError\n",
      "------ FindCmdError\n",
      "------ HomeDirError\n",
      "------ ProfileDirError\n",
      "------ IPythonCoreError\n",
      "--------- TryNext\n",
      "--------- UsageError\n",
      "--------- StdinNotImplementedError\n",
      "------ InputRejected\n",
      "------ GetoptError\n",
      "------ ErrorToken\n",
      "------ PrefilterError\n",
      "------ AliasError\n",
      "--------- InvalidAliasError\n",
      "------ Error\n",
      "--------- InterfaceError\n",
      "--------- DatabaseError\n",
      "------------ InternalError\n",
      "------------ OperationalError\n",
      "------------ ProgrammingError\n",
      "------------ IntegrityError\n",
      "------------ DataError\n",
      "------------ NotSupportedError\n",
      "------ Warning\n",
      "------ SpaceInInput\n",
      "------ DOMException\n",
      "--------- IndexSizeErr\n",
      "--------- DomstringSizeErr\n",
      "--------- HierarchyRequestErr\n",
      "--------- WrongDocumentErr\n",
      "--------- InvalidCharacterErr\n",
      "--------- NoDataAllowedErr\n",
      "--------- NoModificationAllowedErr\n",
      "--------- NotFoundErr\n",
      "--------- NotSupportedErr\n",
      "--------- InuseAttributeErr\n",
      "--------- InvalidStateErr\n",
      "--------- SyntaxErr\n",
      "--------- InvalidModificationErr\n",
      "--------- NamespaceErr\n",
      "--------- InvalidAccessErr\n",
      "--------- ValidationErr\n",
      "------ ValidationError\n",
      "------ EditReadOnlyBuffer\n",
      "------ _Retry\n",
      "------ InvalidLayoutError\n",
      "------ HeightIsUnknownError\n",
      "------ ParserSyntaxError\n",
      "------ InternalParseError\n",
      "------ _PositionUpdatingFinished\n",
      "------ SimpleGetItemNotFound\n",
      "------ UncaughtAttributeError\n",
      "------ HasNoContext\n",
      "------ ParamIssue\n",
      "------ _JediError\n",
      "--------- InternalError\n",
      "--------- WrongVersion\n",
      "--------- RefactoringError\n",
      "------ OnErrorLeaf\n",
      "------ InvalidPythonEnvironment\n",
      "------ MessageError\n",
      "--------- MessageParseError\n",
      "------------ HeaderParseError\n",
      "------------ BoundaryError\n",
      "--------- MultipartConversionError\n",
      "--------- CharsetError\n",
      "------ Error\n",
      "------ HTTPException\n",
      "--------- NotConnected\n",
      "--------- InvalidURL\n",
      "--------- UnknownProtocol\n",
      "--------- UnknownTransferEncoding\n",
      "--------- UnimplementedFileMode\n",
      "--------- IncompleteRead\n",
      "--------- ImproperConnectionState\n",
      "------------ CannotSendRequest\n",
      "------------ CannotSendHeader\n",
      "------------ ResponseNotReady\n",
      "--------- BadStatusLine\n",
      "------------ RemoteDisconnected\n",
      "--------- LineTooLong\n",
      "------ InteractivelyDefined\n",
      "------ KillEmbedded\n",
      "------ Error\n",
      "--------- NoSuchProcess\n",
      "------------ ZombieProcess\n",
      "--------- AccessDenied\n",
      "--------- TimeoutExpired\n",
      "------ _Ipv6UnsupportedError\n",
      "------ QueueEmpty\n",
      "------ QueueFull\n",
      "------ DebuggerInitializationError\n",
      "------ ExpatError\n",
      "------ Error\n",
      "--------- ProtocolError\n",
      "--------- ResponseError\n",
      "--------- Fault\n",
      "------ ParseBaseException\n",
      "--------- ParseException\n",
      "--------- ParseFatalException\n",
      "------------ ParseSyntaxException\n",
      "------ RecursiveGrammarException\n",
      "------ ResolutionError\n",
      "--------- VersionConflict\n",
      "------------ ContextualVersionConflict\n",
      "--------- DistributionNotFound\n",
      "--------- UnknownExtra\n",
      "------ _Error\n",
      "------ UnableToResolveVariableException\n",
      "------ InvalidTypeInArgsException\n",
      "------ EndMarkerReached\n",
      "--- GeneratorExit\n",
      "--- SystemExit\n",
      "--- KeyboardInterrupt\n",
      "--- CancelledError\n",
      "--- AbortThread\n"
     ]
    }
   ],
   "source": [
    "\n",
    "import inspect\n",
    "\n",
    "\n",
    "def treeClass(cls, ind = 0):\n",
    "\t\n",
    "\t\n",
    "\tprint ('-' * ind, cls.__name__)\n",
    "\t\n",
    "\t\n",
    "\tfor i in cls.__subclasses__():\n",
    "\t\ttreeClass(i, ind + 3)\n",
    "\n",
    "print(\"Hierarchy for Built-in exceptions is : \")\n",
    "\n",
    "\n",
    "\n",
    "inspect.getclasstree(inspect.getmro(BaseException))\n",
    "\n",
    "\n",
    "treeClass(BaseException)\n"
   ]
  },
  {
   "cell_type": "code",
   "execution_count": null,
   "id": "77e93e7f-043c-42a7-98e6-a4b2d70430ad",
   "metadata": {},
   "outputs": [],
   "source": []
  },
  {
   "cell_type": "code",
   "execution_count": null,
   "id": "466ba98e-5fa1-43d6-928c-04aea0f8f79c",
   "metadata": {},
   "outputs": [],
   "source": []
  },
  {
   "cell_type": "markdown",
   "id": "649ac81e-0972-45d8-bc92-916489b06052",
   "metadata": {},
   "source": [
    "Q3. What errors are defined in the ArithmeticError class? Explain any two with an example."
   ]
  },
  {
   "cell_type": "markdown",
   "id": "7dd019bd-dff9-4f43-81f9-c7ac7677d83f",
   "metadata": {},
   "source": [
    "Arithmetic error:\n",
    "\n",
    "The arithmetic error occurs when an error is encountered during numeric calculations in Python. This includes Zerodivision Error ,Overflow error and Floating point error."
   ]
  },
  {
   "cell_type": "markdown",
   "id": "c8422f85-df08-4c61-bba9-0d584888e2b6",
   "metadata": {},
   "source": [
    "ZeroDivisionError is a built-in Python exception thrown when a number is divided by 0.\n",
    "\n",
    "FloatingPointError is a built-in Python exception that is raised when a floating-point operation fails to produce a finite result, or when a floating-point operation results in an overflow or underflow condition."
   ]
  },
  {
   "cell_type": "code",
   "execution_count": 2,
   "id": "f56c529f-d004-4ccc-b83f-a1578c96ecb6",
   "metadata": {},
   "outputs": [
    {
     "data": {
      "text/plain": [
       "'INFO:root:Cannot Divide by zero :division by zero\\n'"
      ]
     },
     "execution_count": 2,
     "metadata": {},
     "output_type": "execute_result"
    }
   ],
   "source": [
    "# ZeroDivisionErro\n",
    "try :\n",
    "    10/0\n",
    "except ZeroDivisionError as e:\n",
    "    logging.info(f\"Cannot Divide by zero :{e}\")\n",
    "    \n",
    "f=open(\"error.log\",\"r\")\n",
    "f.read()"
   ]
  },
  {
   "cell_type": "markdown",
   "id": "282c774e-d2a2-4443-8d01-91c9b72fe307",
   "metadata": {},
   "source": [
    "FloatingPointError is raised when a floating-point calculation produces a result that cannot be represented exactly using the available memory, such as dividing by zero or calculating the square root of a negative number. For example, attempting to calculate the square root of -1 using math.sqrt(-1) will result in a FloatingPointError.\n",
    "\n"
   ]
  },
  {
   "cell_type": "code",
   "execution_count": null,
   "id": "72b8f04c-3e4c-44ff-84b0-6f98e2d26563",
   "metadata": {},
   "outputs": [],
   "source": []
  },
  {
   "cell_type": "code",
   "execution_count": 3,
   "id": "03242a75-0063-49e7-b0d8-5eaf69fed5a0",
   "metadata": {},
   "outputs": [
    {
     "data": {
      "text/plain": [
       "'INFO:root:Cannot calculate square root of a negative number is : math domain error\\n'"
      ]
     },
     "execution_count": 3,
     "metadata": {},
     "output_type": "execute_result"
    }
   ],
   "source": [
    "import math\n",
    "try:\n",
    "    result = math.sqrt(-1)\n",
    "except ValueError as e:\n",
    "    logging.info(f\"Cannot calculate square root of a negative number is : {e}\")\n",
    "    \n",
    "f=open(\"error.log\",\"r\")\n",
    "f.read()"
   ]
  },
  {
   "cell_type": "code",
   "execution_count": null,
   "id": "543edcf4-ef8c-4908-911a-838f20982c09",
   "metadata": {},
   "outputs": [],
   "source": []
  },
  {
   "cell_type": "markdown",
   "id": "b95ad152-b8d5-4bbc-a6f7-ee7e8ee08969",
   "metadata": {},
   "source": [
    "Q4. Why LookupError class is used? Explain with an example KeyError and IndexError."
   ]
  },
  {
   "cell_type": "markdown",
   "id": "2cafc511-394c-4353-9f01-18d221918b1b",
   "metadata": {},
   "source": [
    "The LookupError exception in Python forms the base class for all exceptions that are raised when an index or a key is not found for a sequence or dictionary respectively.\n",
    "\n",
    "You can use LookupError exception class to handle both IndexError and KeyError exception classes."
   ]
  },
  {
   "cell_type": "markdown",
   "id": "3f67a8de-9d18-43b1-93e8-d7de767ed718",
   "metadata": {},
   "source": [
    "IndexError:\n",
    "\n",
    "\n",
    "An IndexError is raised when a sequence reference is out of range."
   ]
  },
  {
   "cell_type": "code",
   "execution_count": 5,
   "id": "9f7ad759-b9bb-4ca2-ac1f-cb6d73368598",
   "metadata": {},
   "outputs": [
    {
     "ename": "IndexError",
     "evalue": "list index out of range",
     "output_type": "error",
     "traceback": [
      "\u001b[0;31m---------------------------------------------------------------------------\u001b[0m",
      "\u001b[0;31mIndexError\u001b[0m                                Traceback (most recent call last)",
      "Cell \u001b[0;32mIn[5], line 2\u001b[0m\n\u001b[1;32m      1\u001b[0m l\u001b[38;5;241m=\u001b[39m[\u001b[38;5;241m1\u001b[39m,\u001b[38;5;241m2\u001b[39m,\u001b[38;5;241m3\u001b[39m,\u001b[38;5;241m4\u001b[39m]\n\u001b[0;32m----> 2\u001b[0m \u001b[43ml\u001b[49m\u001b[43m[\u001b[49m\u001b[38;5;241;43m5\u001b[39;49m\u001b[43m]\u001b[49m\n",
      "\u001b[0;31mIndexError\u001b[0m: list index out of range"
     ]
    }
   ],
   "source": [
    "l=[1,2,3,4]\n",
    "l[5]"
   ]
  },
  {
   "cell_type": "code",
   "execution_count": 9,
   "id": "717df63d-941c-450e-92ee-d2dbdb2f0c14",
   "metadata": {},
   "outputs": [
    {
     "data": {
      "text/plain": [
       "'ERROR:root:list index out of range\\n'"
      ]
     },
     "execution_count": 9,
     "metadata": {},
     "output_type": "execute_result"
    }
   ],
   "source": [
    "try :\n",
    "    l[5]\n",
    "except IndexError as e:\n",
    "    logging.error(f\"{e}\")\n",
    "f=open(\"error.log\",\"r\")\n",
    "f.read()"
   ]
  },
  {
   "cell_type": "code",
   "execution_count": null,
   "id": "1dd650d7-9a0e-43d3-a04b-39f9156b0120",
   "metadata": {},
   "outputs": [],
   "source": []
  },
  {
   "cell_type": "markdown",
   "id": "f82a47c5-6ac6-461f-b39a-637887ffd2b0",
   "metadata": {},
   "source": [
    "KeyError :\n",
    "    \n",
    "KeyError is raised when a value is not found as a key of a dictionary."
   ]
  },
  {
   "cell_type": "code",
   "execution_count": 11,
   "id": "1b0a5750-e7b0-45a4-9b49-097a65002a0a",
   "metadata": {},
   "outputs": [
    {
     "ename": "KeyError",
     "evalue": "4",
     "output_type": "error",
     "traceback": [
      "\u001b[0;31m---------------------------------------------------------------------------\u001b[0m",
      "\u001b[0;31mKeyError\u001b[0m                                  Traceback (most recent call last)",
      "Cell \u001b[0;32mIn[11], line 2\u001b[0m\n\u001b[1;32m      1\u001b[0m d\u001b[38;5;241m=\u001b[39m{\u001b[38;5;241m1\u001b[39m:\u001b[38;5;124m\"\u001b[39m\u001b[38;5;124m1\u001b[39m\u001b[38;5;124m\"\u001b[39m,\u001b[38;5;241m2\u001b[39m:\u001b[38;5;124m\"\u001b[39m\u001b[38;5;124m2\u001b[39m\u001b[38;5;124m\"\u001b[39m,\u001b[38;5;241m3\u001b[39m:\u001b[38;5;124m\"\u001b[39m\u001b[38;5;124m3\u001b[39m\u001b[38;5;124m\"\u001b[39m}\n\u001b[0;32m----> 2\u001b[0m \u001b[43md\u001b[49m\u001b[43m[\u001b[49m\u001b[38;5;241;43m4\u001b[39;49m\u001b[43m]\u001b[49m\n",
      "\u001b[0;31mKeyError\u001b[0m: 4"
     ]
    }
   ],
   "source": [
    "d={1:\"1\",2:\"2\",3:\"3\"}\n",
    "d[4]\n"
   ]
  },
  {
   "cell_type": "code",
   "execution_count": 12,
   "id": "748a6c63-60d6-4f87-9f02-f9e237218255",
   "metadata": {},
   "outputs": [
    {
     "data": {
      "text/plain": [
       "'ERROR:root:This key is not found as it is key error : 4\\n'"
      ]
     },
     "execution_count": 12,
     "metadata": {},
     "output_type": "execute_result"
    }
   ],
   "source": [
    "try:\n",
    "    d[4]\n",
    "except KeyError as e:\n",
    "    logging.error(f\"This key is not found as it is key error : {e}\")\n",
    "f=open(\"error.log\",\"r\")\n",
    "f.read()"
   ]
  },
  {
   "cell_type": "code",
   "execution_count": null,
   "id": "b97bf5b2-6e02-4a01-bdda-b247c2adeb4b",
   "metadata": {},
   "outputs": [],
   "source": []
  },
  {
   "cell_type": "markdown",
   "id": "21de2fbd-c3a7-4b5a-915b-c12b890b54e2",
   "metadata": {},
   "source": [
    "Q5. Explain ImportError. What is ModuleNotFoundError?"
   ]
  },
  {
   "cell_type": "markdown",
   "id": "044e0572-51f7-4cf4-a9ff-b2c645c96a0f",
   "metadata": {},
   "source": [
    "ImportError:\n",
    "\n",
    "ImportError\tis Raised when the imported module is not found.\n",
    "\n",
    "\n",
    "\n",
    "\n",
    "ModuleNotFoundError:\n",
    "\n",
    "ModuleNotFoundError is a specific type of ImportError. This error occurs when you're trying to access or use a module that cannot be found. If you have an except ImportError block, that will cover ModuleNotFoundError"
   ]
  },
  {
   "cell_type": "markdown",
   "id": "465dce65-5e90-4d3b-bb0b-f1002a3e10b8",
   "metadata": {},
   "source": [
    ".\n",
    "\n",
    "ImportError Example:"
   ]
  },
  {
   "cell_type": "code",
   "execution_count": 27,
   "id": "f8cf895e-7263-4621-afa7-d2da8f50ed45",
   "metadata": {},
   "outputs": [
    {
     "ename": "ImportError",
     "evalue": "cannot import name 'datetime' from 'time' (unknown location)",
     "output_type": "error",
     "traceback": [
      "\u001b[0;31m---------------------------------------------------------------------------\u001b[0m",
      "\u001b[0;31mImportError\u001b[0m                               Traceback (most recent call last)",
      "Cell \u001b[0;32mIn[27], line 1\u001b[0m\n\u001b[0;32m----> 1\u001b[0m \u001b[38;5;28;01mfrom\u001b[39;00m \u001b[38;5;21;01mtime\u001b[39;00m \u001b[38;5;28;01mimport\u001b[39;00m datetime\n",
      "\u001b[0;31mImportError\u001b[0m: cannot import name 'datetime' from 'time' (unknown location)"
     ]
    }
   ],
   "source": [
    "from time import datetime"
   ]
  },
  {
   "cell_type": "code",
   "execution_count": 14,
   "id": "21675ca9-6908-4ec1-8e98-0c99a0410897",
   "metadata": {},
   "outputs": [
    {
     "data": {
      "text/plain": [
       "\"ERROR:root:cannot import name 'datetime' from 'time' (unknown location)\\n\""
      ]
     },
     "execution_count": 14,
     "metadata": {},
     "output_type": "execute_result"
    }
   ],
   "source": [
    "try:\n",
    "    from time import datetime\n",
    "except ImportError as e:\n",
    "    logging.error(e)\n",
    "    \n",
    "f=open(\"error.log\",\"r\")\n",
    "f.read()"
   ]
  },
  {
   "cell_type": "markdown",
   "id": "68fc421a-c008-4ec0-9bef-5fef544d754d",
   "metadata": {},
   "source": [
    ".\n",
    "\n",
    "\n",
    "ModuleNotFoundError Example:"
   ]
  },
  {
   "cell_type": "code",
   "execution_count": 16,
   "id": "f386ab11-9a7c-4830-b187-21762d140638",
   "metadata": {},
   "outputs": [
    {
     "ename": "ModuleNotFoundError",
     "evalue": "No module named 'ravi'",
     "output_type": "error",
     "traceback": [
      "\u001b[0;31m---------------------------------------------------------------------------\u001b[0m",
      "\u001b[0;31mModuleNotFoundError\u001b[0m                       Traceback (most recent call last)",
      "Cell \u001b[0;32mIn[16], line 1\u001b[0m\n\u001b[0;32m----> 1\u001b[0m \u001b[38;5;28;01mimport\u001b[39;00m \u001b[38;5;21;01mravi\u001b[39;00m\n",
      "\u001b[0;31mModuleNotFoundError\u001b[0m: No module named 'ravi'"
     ]
    }
   ],
   "source": [
    "import ravi"
   ]
  },
  {
   "cell_type": "code",
   "execution_count": 15,
   "id": "0fb67ec9-9921-4abd-a8f5-00c184e7c0be",
   "metadata": {},
   "outputs": [
    {
     "data": {
      "text/plain": [
       "\"ERROR:root:No module named 'ravi'\\n\""
      ]
     },
     "execution_count": 15,
     "metadata": {},
     "output_type": "execute_result"
    }
   ],
   "source": [
    "try:\n",
    "    import ravi\n",
    "except ModuleNotFoundError as e:\n",
    "    logging.error(e)\n",
    "    \n",
    "f=open(\"error.log\",\"r\")\n",
    "f.read()"
   ]
  },
  {
   "cell_type": "code",
   "execution_count": null,
   "id": "c60beddf-8dc8-47c8-bc2b-f4519d908032",
   "metadata": {},
   "outputs": [],
   "source": []
  },
  {
   "cell_type": "code",
   "execution_count": null,
   "id": "00197948-db6f-4819-bfd9-5490fa495960",
   "metadata": {},
   "outputs": [],
   "source": []
  },
  {
   "cell_type": "markdown",
   "id": "19be130f-6de3-487e-9754-d5d993bf98c6",
   "metadata": {},
   "source": [
    "Q6. List down some best practices for exception handling in python."
   ]
  },
  {
   "cell_type": "markdown",
   "id": "278b95b2-3cba-43b3-82b5-059ace0f7610",
   "metadata": {},
   "source": [
    "1.  Always avoid to write multiple exception handling , try to use specific exception handling : If try is having 1/0 i.e ZeroDivisionError so instead of writing different sorts of Exception Handling we should only use ZeroDivisionError.\n",
    "\n",
    "2.  Always try to document all the error i.e Write in comment about the error \n",
    "\n",
    "3.  cleanup all the resourses : close the open file and database connections"
   ]
  },
  {
   "cell_type": "code",
   "execution_count": null,
   "id": "df075998-fa67-422e-8925-22642cc8f78d",
   "metadata": {},
   "outputs": [],
   "source": []
  }
 ],
 "metadata": {
  "kernelspec": {
   "display_name": "Python 3 (ipykernel)",
   "language": "python",
   "name": "python3"
  },
  "language_info": {
   "codemirror_mode": {
    "name": "ipython",
    "version": 3
   },
   "file_extension": ".py",
   "mimetype": "text/x-python",
   "name": "python",
   "nbconvert_exporter": "python",
   "pygments_lexer": "ipython3",
   "version": "3.10.8"
  }
 },
 "nbformat": 4,
 "nbformat_minor": 5
}
